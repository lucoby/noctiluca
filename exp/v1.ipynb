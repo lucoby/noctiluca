{
 "cells": [
  {
   "cell_type": "code",
   "execution_count": 68,
   "id": "7f2c11ae",
   "metadata": {},
   "outputs": [],
   "source": [
    "from enum import Enum\n",
    "from dataclasses import dataclass\n",
    "from random import randint\n",
    "from typing import List\n",
    "\n",
    "\n",
    "class DieColor(Enum):\n",
    "    BLUE = 1\n",
    "    GREEN = 2\n",
    "    ORANGE = 3\n",
    "    PURPLE = 4\n",
    "    \n",
    "    \n",
    "@dataclass\n",
    "class Die:\n",
    "    value: int\n",
    "    color: DieColor\n",
    "        \n",
    "    @staticmethod\n",
    "    def random():\n",
    "        return Die(color=DieColor(randint(1, 4)), value=randint(1,6))\n",
    "    \n",
    "    def __repr__(self):\n",
    "        return f\"Die({self.value}, {self.color.name.lower()})\""
   ]
  },
  {
   "cell_type": "code",
   "execution_count": 69,
   "id": "1220f84d",
   "metadata": {},
   "outputs": [
    {
     "data": {
      "text/plain": [
       "Die(1, blue)"
      ]
     },
     "execution_count": 69,
     "metadata": {},
     "output_type": "execute_result"
    }
   ],
   "source": [
    "Die(color=DieColor.BLUE, value=1)"
   ]
  },
  {
   "cell_type": "code",
   "execution_count": 67,
   "id": "d42ea0c5",
   "metadata": {},
   "outputs": [
    {
     "name": "stdout",
     "output_type": "stream",
     "text": [
      "Die(3, blue)\n",
      "Die(2, green)\n",
      "Die(2, orange)\n"
     ]
    }
   ],
   "source": [
    "for i in range(3):\n",
    "    print(Die.random())"
   ]
  },
  {
   "cell_type": "code",
   "execution_count": 62,
   "id": "0acbb8ac",
   "metadata": {},
   "outputs": [],
   "source": [
    "@dataclass\n",
    "class HexCoord:\n",
    "    x: int\n",
    "    y: int\n",
    "    z: int\n",
    "    \n",
    "    def maxCoord(self):\n",
    "        return max(abs(self.x), abs(self.y), abs(self.z))\n",
    "    \n",
    "    def __repr__(self):\n",
    "        return f\"({self.x:>2}, {self.y:>2}, {self.z:>2})\"\n",
    "\n",
    "@dataclass\n",
    "class HexCell:\n",
    "    coord: HexCoord\n",
    "    dice: List[Die]"
   ]
  },
  {
   "cell_type": "code",
   "execution_count": 63,
   "id": "c1cab757",
   "metadata": {},
   "outputs": [],
   "source": [
    "def makeCell(x, y):\n",
    "    z = 0 - x - y\n",
    "    coord = HexCoord(x=x, y=y, z=z)\n",
    "    maxCoord = coord.maxCoord()\n",
    "    \n",
    "    if maxCoord > 2:\n",
    "        return None\n",
    "    elif maxCoord == 0:\n",
    "        dice = []\n",
    "    else:\n",
    "        dice = [Die.random() for i in range(maxCoord + 3)]\n",
    "    \n",
    "    return HexCell(coord=coord, dice=dice)"
   ]
  },
  {
   "cell_type": "code",
   "execution_count": 64,
   "id": "248d085d",
   "metadata": {},
   "outputs": [],
   "source": [
    "cells = []\n",
    "for i in range(-2, 3):\n",
    "    for j in range(-2, 3):\n",
    "        cells.append(makeCell(i, j))\n",
    "\n",
    "cells = [cell for cell in cells if cell is not None]"
   ]
  },
  {
   "cell_type": "code",
   "execution_count": 66,
   "id": "fe17b3d0",
   "metadata": {},
   "outputs": [
    {
     "name": "stdout",
     "output_type": "stream",
     "text": [
      "HexCell(coord=(-2,  0,  2), dice=[Die(6, green), Die(1, purple), Die(2, green), Die(5, orange), Die(1, green)])\n",
      "HexCell(coord=(-2,  1,  1), dice=[Die(1, purple), Die(3, orange), Die(4, orange), Die(6, green), Die(5, purple)])\n",
      "HexCell(coord=(-2,  2,  0), dice=[Die(1, blue), Die(1, green), Die(4, orange), Die(5, purple), Die(6, orange)])\n",
      "HexCell(coord=(-1, -1,  2), dice=[Die(3, purple), Die(5, purple), Die(3, purple), Die(6, green), Die(2, purple)])\n",
      "HexCell(coord=(-1,  0,  1), dice=[Die(4, orange), Die(4, green), Die(6, green), Die(4, orange)])\n",
      "HexCell(coord=(-1,  1,  0), dice=[Die(1, purple), Die(6, green), Die(1, blue), Die(5, orange)])\n",
      "HexCell(coord=(-1,  2, -1), dice=[Die(1, orange), Die(5, blue), Die(2, green), Die(3, purple), Die(6, purple)])\n",
      "HexCell(coord=( 0, -2,  2), dice=[Die(2, green), Die(2, orange), Die(1, orange), Die(3, purple), Die(6, blue)])\n",
      "HexCell(coord=( 0, -1,  1), dice=[Die(1, blue), Die(1, green), Die(5, purple), Die(6, purple)])\n",
      "HexCell(coord=( 0,  0,  0), dice=[])\n",
      "HexCell(coord=( 0,  1, -1), dice=[Die(3, blue), Die(6, green), Die(4, blue), Die(6, green)])\n",
      "HexCell(coord=( 0,  2, -2), dice=[Die(2, purple), Die(3, orange), Die(4, green), Die(5, purple), Die(5, blue)])\n",
      "HexCell(coord=( 1, -2,  1), dice=[Die(2, blue), Die(1, purple), Die(5, green), Die(6, green), Die(3, purple)])\n",
      "HexCell(coord=( 1, -1,  0), dice=[Die(2, green), Die(6, green), Die(1, orange), Die(3, green)])\n",
      "HexCell(coord=( 1,  0, -1), dice=[Die(1, orange), Die(5, green), Die(5, orange), Die(2, purple)])\n",
      "HexCell(coord=( 1,  1, -2), dice=[Die(1, green), Die(2, green), Die(1, orange), Die(1, orange), Die(4, orange)])\n",
      "HexCell(coord=( 2, -2,  0), dice=[Die(5, green), Die(3, orange), Die(6, purple), Die(4, orange), Die(1, green)])\n",
      "HexCell(coord=( 2, -1, -1), dice=[Die(6, orange), Die(1, blue), Die(4, purple), Die(5, green), Die(4, green)])\n",
      "HexCell(coord=( 2,  0, -2), dice=[Die(5, orange), Die(1, purple), Die(1, green), Die(4, green), Die(5, purple)])\n"
     ]
    }
   ],
   "source": [
    "for cell in cells:\n",
    "    print(cell)\n"
   ]
  },
  {
   "cell_type": "code",
   "execution_count": null,
   "id": "4d51f8e7",
   "metadata": {},
   "outputs": [],
   "source": []
  },
  {
   "cell_type": "code",
   "execution_count": null,
   "id": "bb1dcb9c",
   "metadata": {},
   "outputs": [],
   "source": []
  }
 ],
 "metadata": {
  "kernelspec": {
   "display_name": "Python 3",
   "language": "python",
   "name": "python3"
  },
  "language_info": {
   "codemirror_mode": {
    "name": "ipython",
    "version": 3
   },
   "file_extension": ".py",
   "mimetype": "text/x-python",
   "name": "python",
   "nbconvert_exporter": "python",
   "pygments_lexer": "ipython3",
   "version": "3.8.6"
  }
 },
 "nbformat": 4,
 "nbformat_minor": 5
}
